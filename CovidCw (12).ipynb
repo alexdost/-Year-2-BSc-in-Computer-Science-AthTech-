{
 "cells": [
  {
   "cell_type": "code",
   "execution_count": 20,
   "metadata": {},
   "outputs": [],
   "source": [
    "import pandas as pd\n",
    "\n",
    "df = pd.read_csv(\"covid_data.csv\")"
   ]
  },
  {
   "cell_type": "markdown",
   "metadata": {},
   "source": [
    "### CRUCIAL TO BE ABLE TO PERFORM LOGICAL OPERATION BETWEEN DATES"
   ]
  },
  {
   "cell_type": "code",
   "execution_count": 21,
   "metadata": {},
   "outputs": [],
   "source": [
    "df[\"date\"] = pd.to_datetime(df['date']) # CRUCIAL TO BE ABLE TO PERFORM LOGICAL OPERATION BETWEEN DATES"
   ]
  },
  {
   "cell_type": "markdown",
   "metadata": {},
   "source": [
    "# FIRST ANSWER"
   ]
  },
  {
   "cell_type": "code",
   "execution_count": 22,
   "metadata": {},
   "outputs": [],
   "source": [
    "df_by_specific_date = df.loc[(df[\"date\"] == \"2020-03-23\")]  # New df about sorting the values we want by the specific date\n",
    "# we want \n",
    "\n",
    "df_without_world_sum = df_by_specific_date[df_by_specific_date['iso_code'] != 'OWID_WRL']  # Exclude OWID_WRL from our \n",
    "# dataframe because it acts like the world sum"
   ]
  },
  {
   "cell_type": "code",
   "execution_count": 23,
   "metadata": {},
   "outputs": [],
   "source": [
    "max_cases_on_first_lockdown = df_without_world_sum['total_cases'].max()  # Finds the max of 'total_cases' in \n",
    "# df_without_world_sum using the .max() method of dataframes"
   ]
  },
  {
   "cell_type": "code",
   "execution_count": 24,
   "metadata": {
    "scrolled": true
   },
   "outputs": [
    {
     "name": "stdout",
     "output_type": "stream",
     "text": [
      "The country is: China\n"
     ]
    }
   ],
   "source": [
    "most_total_cases_row = df_by_specific_date[df_by_specific_date['total_cases'] == max_cases_on_first_lockdown]  # Checks \n",
    "# when 'total cases' value is equal to the value we want and creates new dataframe containing only 1 row\n",
    "\n",
    "most_total_cases_country_on_greece_first_lockdown = most_total_cases_row['location'].iloc[0] # Finds from the newly created\n",
    "# dataframe which country is in using ['location'] to find the value on that column and iloc[0] to get only the name of the\n",
    "# country. \n",
    "# This case: China\n",
    "\n",
    "print(\"The country is:\", most_total_cases_country_on_greece_first_lockdown) # Prints the name of the country with the most \n",
    "# 'total_cases' when the first lockdown happened in Greece (23/3/2020)"
   ]
  },
  {
   "cell_type": "markdown",
   "metadata": {},
   "source": [
    "# SECOND ANSWER"
   ]
  },
  {
   "cell_type": "code",
   "execution_count": 25,
   "metadata": {
    "scrolled": true
   },
   "outputs": [
    {
     "name": "stdout",
     "output_type": "stream",
     "text": [
      "The country with most 'new_cases' between 23-29/3/2020 is: United States\n"
     ]
    }
   ],
   "source": [
    "df_of_specific_week = df[(df['date'] >= '2020-3-23') & (df['date'] <= '2020-3-29')] #Creates new dataframe of the total one\n",
    "# that contains data only from 23-29/3/2020\n",
    "\n",
    "df_of_specific_week_asorted = df_of_specific_week.sort_values([\"new_cases\"], ascending = False) # Sorts the 'new_cases' values\n",
    "# of the df going from the biggest to smallest \n",
    "\n",
    "df_of_specific_week_without_world_sum = df_of_specific_week_asorted[df_of_specific_week_asorted['iso_code'] != 'OWID_WRL']\n",
    "# excludes 'iso_code' value of 'OWID_WRL' out of our dataframe because it acts as a sum of all data out of all countries\n",
    "\n",
    "most_new_cases_country_on_specific_week = df_of_specific_week_without_world_sum['location'].iloc[0] # Finds the country\n",
    "# that have the most 'new_cases' in the between the dates set on df_of_specific_week\n",
    "\n",
    "print(\"The country with most 'new_cases' between 23-29/3/2020 is:\", most_new_cases_country_on_specific_week) # Prints the \n",
    "#country found earlier"
   ]
  },
  {
   "cell_type": "markdown",
   "metadata": {},
   "source": [
    "# THIRD ANSWER"
   ]
  },
  {
   "cell_type": "code",
   "execution_count": 26,
   "metadata": {
    "scrolled": true
   },
   "outputs": [],
   "source": [
    "df_greece = df[df['location'] == 'Greece']  # New df showing data only for 'location' is 'Greece'\n",
    "\n",
    "df_greece_bf_first_lckdn = df_greece[(df_greece['date'] >= '2020-3-16') & (df_greece['date'] <= '2020-3-22')]  # New df where\n",
    "# location is greece and the dates range from 16-22/3/2020\n"
   ]
  },
  {
   "cell_type": "code",
   "execution_count": 27,
   "metadata": {},
   "outputs": [
    {
     "name": "stdout",
     "output_type": "stream",
     "text": [
      "Greece had 302.0 new cases the week before first lockdown.\n"
     ]
    }
   ],
   "source": [
    "sum_of_new_cases_week_bf_greece_first_lockdown = df_greece_bf_first_lckdn['new_cases'].sum()  # Sums the 'new_cases' in the\n",
    "# specific week (16-22/3/2020)\n",
    "\n",
    "print(\"Greece had\", sum_of_new_cases_week_bf_greece_first_lockdown, \"new cases the week before first lockdown.\") # Prints the\n",
    "# total sum of 'new_cases' for the week before Greece's first lockdown"
   ]
  },
  {
   "cell_type": "code",
   "execution_count": 28,
   "metadata": {},
   "outputs": [],
   "source": [
    "df_greece_bf_second_lckdn = df_greece[(df_greece['date'] >= '2020-10-31') & (df_greece['date'] <= '2020-11-06')]  # New df\n",
    "# where location is greece and the dates range from 31/10-06/11/2020"
   ]
  },
  {
   "cell_type": "code",
   "execution_count": 29,
   "metadata": {},
   "outputs": [
    {
     "name": "stdout",
     "output_type": "stream",
     "text": [
      "Greece had 14297.0 new cases the week before second lockdown.\n"
     ]
    }
   ],
   "source": [
    "sum_of_new_cases_week_bf_greece_second_lockdown = df_greece_bf_second_lckdn['new_cases'].sum()  # Sums the 'new_cases' in the\n",
    "# specific week (31/10-06/11/2020)\n",
    "\n",
    "print(\"Greece had\", sum_of_new_cases_week_bf_greece_second_lockdown, \"new cases the week before second lockdown.\") # Prints the\n",
    "# total sum of 'new_cases' for the week before Greece's second lockdown"
   ]
  },
  {
   "cell_type": "markdown",
   "metadata": {},
   "source": [
    "# FOURTH ANSWER"
   ]
  },
  {
   "cell_type": "code",
   "execution_count": 35,
   "metadata": {},
   "outputs": [],
   "source": [
    "max_total_deaths_per_million = df['total_deaths_per_million'].max() # Finds the maximum 'total_deaths_per_million' values in\n",
    "# our dataframe"
   ]
  },
  {
   "cell_type": "code",
   "execution_count": 36,
   "metadata": {
    "scrolled": false
   },
   "outputs": [
    {
     "name": "stdout",
     "output_type": "stream",
     "text": [
      "The country is:  Belgium \n",
      "With 1350.088 deaths per million\n"
     ]
    }
   ],
   "source": [
    "most_death_ratio_row = df[df['total_deaths_per_million'] == max_total_deaths_per_million] # Checks when  when\n",
    "# 'total total_deaths_per_million' value is equal to 'max_total_deaths_per_million' and creates new dataframe containing\n",
    "# only 1 row\n",
    "\n",
    "most_death_ratio_country = most_death_ratio_row['location'].iloc[0] # Finds from the newly created which country is in\n",
    "# using ['location'] to find the value on that column and iloc[0] to get only the name of the  country. \n",
    "# This case: Belgium \n",
    "\n",
    "print(\"The country is: \", most_death_ratio_country, \"\\nWith\" ,max_total_deaths_per_million, \"deaths per million\") # Prints the\n",
    "# name of the country with the most 'total_deaths_per_million' in the dataframe"
   ]
  },
  {
   "cell_type": "markdown",
   "metadata": {},
   "source": [
    "# FIFTH ANSWER"
   ]
  },
  {
   "cell_type": "code",
   "execution_count": 43,
   "metadata": {},
   "outputs": [],
   "source": [
    "latest_date = df.sort_values([\"date\"], ascending = False)['date'].iloc[0]  # Sorts the values of the dates (starting from the\n",
    "# most recent to the oldest) then get the values out of column 'date' and using .iloc[0] locates the first value that it finds\n",
    "# in this case: 2020-11-24"
   ]
  },
  {
   "cell_type": "code",
   "execution_count": 44,
   "metadata": {},
   "outputs": [],
   "source": [
    "new_df = df[(df['date'] == latest_date) & (df['location'] != 'World') & (df['location'] != 'International')]  # New dataframe\n",
    "# where the date is the same as 'latest_date' and locations 'World' and 'International' are excluded"
   ]
  },
  {
   "cell_type": "code",
   "execution_count": 45,
   "metadata": {},
   "outputs": [],
   "source": [
    "max = new_df['total_deaths'].div(new_df['total_cases']).max() # Finds the max of this division in our dataframe"
   ]
  },
  {
   "cell_type": "code",
   "execution_count": 46,
   "metadata": {},
   "outputs": [],
   "source": [
    "needed_row = new_df[(new_df['total_deaths']/new_df['total_cases']) == max]  # Finds which row has 'total_deaths'/'total_cases'\n",
    "# value equal to our max value"
   ]
  },
  {
   "cell_type": "code",
   "execution_count": 47,
   "metadata": {},
   "outputs": [],
   "source": [
    "most_deaths_per_case_country = needed_row['location'].iloc[0] # Finds the country that has the most deaths per case"
   ]
  },
  {
   "cell_type": "code",
   "execution_count": 48,
   "metadata": {},
   "outputs": [
    {
     "name": "stdout",
     "output_type": "stream",
     "text": [
      "The country with most deaths per case ('total_deaths'/'total_cases') is: Yemen\n"
     ]
    }
   ],
   "source": [
    "print(\"The country with most deaths per case ('total_deaths'/'total_cases') is:\",most_deaths_per_case_country) # Prints the\n",
    "# country that has the most deaths per case"
   ]
  },
  {
   "cell_type": "markdown",
   "metadata": {},
   "source": [
    "# SECOND PART"
   ]
  },
  {
   "cell_type": "markdown",
   "metadata": {},
   "source": [
    "## First answer"
   ]
  },
  {
   "cell_type": "code",
   "execution_count": 49,
   "metadata": {},
   "outputs": [],
   "source": [
    "df_greece_specific = df_greece[['date','new_cases','new_deaths']] # New df of only the specific three columns we need \n",
    "# from df_greece dataframe that contains data for only Greece"
   ]
  },
  {
   "cell_type": "code",
   "execution_count": 50,
   "metadata": {
    "scrolled": false
   },
   "outputs": [
    {
     "data": {
      "text/html": [
       "<div>\n",
       "<style scoped>\n",
       "    .dataframe tbody tr th:only-of-type {\n",
       "        vertical-align: middle;\n",
       "    }\n",
       "\n",
       "    .dataframe tbody tr th {\n",
       "        vertical-align: top;\n",
       "    }\n",
       "\n",
       "    .dataframe thead tr th {\n",
       "        text-align: left;\n",
       "    }\n",
       "\n",
       "    .dataframe thead tr:last-of-type th {\n",
       "        text-align: right;\n",
       "    }\n",
       "</style>\n",
       "<table border=\"1\" class=\"dataframe\">\n",
       "  <thead>\n",
       "    <tr>\n",
       "      <th></th>\n",
       "      <th colspan=\"2\" halign=\"left\">new_cases</th>\n",
       "      <th colspan=\"2\" halign=\"left\">new_deaths</th>\n",
       "    </tr>\n",
       "    <tr>\n",
       "      <th></th>\n",
       "      <th>mean</th>\n",
       "      <th>std</th>\n",
       "      <th>mean</th>\n",
       "      <th>std</th>\n",
       "    </tr>\n",
       "    <tr>\n",
       "      <th>date</th>\n",
       "      <th></th>\n",
       "      <th></th>\n",
       "      <th></th>\n",
       "      <th></th>\n",
       "    </tr>\n",
       "  </thead>\n",
       "  <tbody>\n",
       "    <tr>\n",
       "      <th>2019-12-31</th>\n",
       "      <td>0.000000</td>\n",
       "      <td>NaN</td>\n",
       "      <td>0.000000</td>\n",
       "      <td>NaN</td>\n",
       "    </tr>\n",
       "    <tr>\n",
       "      <th>2020-01-31</th>\n",
       "      <td>0.000000</td>\n",
       "      <td>0.000000</td>\n",
       "      <td>0.000000</td>\n",
       "      <td>0.000000</td>\n",
       "    </tr>\n",
       "    <tr>\n",
       "      <th>2020-02-29</th>\n",
       "      <td>0.137931</td>\n",
       "      <td>0.441114</td>\n",
       "      <td>0.000000</td>\n",
       "      <td>0.000000</td>\n",
       "    </tr>\n",
       "    <tr>\n",
       "      <th>2020-03-31</th>\n",
       "      <td>41.655172</td>\n",
       "      <td>31.867220</td>\n",
       "      <td>1.482759</td>\n",
       "      <td>1.844310</td>\n",
       "    </tr>\n",
       "    <tr>\n",
       "      <th>2020-04-30</th>\n",
       "      <td>45.466667</td>\n",
       "      <td>39.825250</td>\n",
       "      <td>3.200000</td>\n",
       "      <td>2.426861</td>\n",
       "    </tr>\n",
       "    <tr>\n",
       "      <th>2020-05-31</th>\n",
       "      <td>10.935484</td>\n",
       "      <td>8.721374</td>\n",
       "      <td>1.161290</td>\n",
       "      <td>1.035914</td>\n",
       "    </tr>\n",
       "    <tr>\n",
       "      <th>2020-06-30</th>\n",
       "      <td>15.833333</td>\n",
       "      <td>12.066149</td>\n",
       "      <td>0.533333</td>\n",
       "      <td>0.899553</td>\n",
       "    </tr>\n",
       "    <tr>\n",
       "      <th>2020-07-31</th>\n",
       "      <td>32.612903</td>\n",
       "      <td>14.382113</td>\n",
       "      <td>0.387097</td>\n",
       "      <td>0.715422</td>\n",
       "    </tr>\n",
       "    <tr>\n",
       "      <th>2020-08-31</th>\n",
       "      <td>184.935484</td>\n",
       "      <td>62.537954</td>\n",
       "      <td>1.903226</td>\n",
       "      <td>1.619770</td>\n",
       "    </tr>\n",
       "    <tr>\n",
       "      <th>2020-09-30</th>\n",
       "      <td>266.300000</td>\n",
       "      <td>82.854734</td>\n",
       "      <td>4.200000</td>\n",
       "      <td>2.187740</td>\n",
       "    </tr>\n",
       "    <tr>\n",
       "      <th>2020-10-31</th>\n",
       "      <td>615.258065</td>\n",
       "      <td>378.469723</td>\n",
       "      <td>7.483871</td>\n",
       "      <td>3.501152</td>\n",
       "    </tr>\n",
       "    <tr>\n",
       "      <th>2020-11-30</th>\n",
       "      <td>2325.416667</td>\n",
       "      <td>621.043016</td>\n",
       "      <td>45.583333</td>\n",
       "      <td>28.640070</td>\n",
       "    </tr>\n",
       "  </tbody>\n",
       "</table>\n",
       "</div>"
      ],
      "text/plain": [
       "              new_cases             new_deaths           \n",
       "                   mean         std       mean        std\n",
       "date                                                     \n",
       "2019-12-31     0.000000         NaN   0.000000        NaN\n",
       "2020-01-31     0.000000    0.000000   0.000000   0.000000\n",
       "2020-02-29     0.137931    0.441114   0.000000   0.000000\n",
       "2020-03-31    41.655172   31.867220   1.482759   1.844310\n",
       "2020-04-30    45.466667   39.825250   3.200000   2.426861\n",
       "2020-05-31    10.935484    8.721374   1.161290   1.035914\n",
       "2020-06-30    15.833333   12.066149   0.533333   0.899553\n",
       "2020-07-31    32.612903   14.382113   0.387097   0.715422\n",
       "2020-08-31   184.935484   62.537954   1.903226   1.619770\n",
       "2020-09-30   266.300000   82.854734   4.200000   2.187740\n",
       "2020-10-31   615.258065  378.469723   7.483871   3.501152\n",
       "2020-11-30  2325.416667  621.043016  45.583333  28.640070"
      ]
     },
     "execution_count": 50,
     "metadata": {},
     "output_type": "execute_result"
    }
   ],
   "source": [
    "df_greece_specific.index = df_greece_specific['date']  # Replaces the indexes of our dataframe with the values of\n",
    "# the 'date' variable\n",
    "df_greece_specific[['new_cases', 'new_deaths']].resample('1M').agg(['mean','std']) # New df where only the  \n",
    "# wanted columns are being showed using resample (divides the date into 1 month bins) and using the .agg() function\n",
    "# to perform .mean() and .std() functions for our statistical analysis\n"
   ]
  },
  {
   "cell_type": "markdown",
   "metadata": {},
   "source": [
    "## Second answer "
   ]
  },
  {
   "cell_type": "code",
   "execution_count": 88,
   "metadata": {},
   "outputs": [],
   "source": [
    "df_portugal = df[df['location'] == 'Portugal'] # Create dataframe which contains data only for Portugal\n",
    "\n",
    "df_portugal_specific = df_portugal[['date','new_cases','new_deaths']] # New df of only the specific three columns we need \n",
    "# from df_portugal dataframe"
   ]
  },
  {
   "cell_type": "code",
   "execution_count": 89,
   "metadata": {},
   "outputs": [
    {
     "data": {
      "text/html": [
       "<div>\n",
       "<style scoped>\n",
       "    .dataframe tbody tr th:only-of-type {\n",
       "        vertical-align: middle;\n",
       "    }\n",
       "\n",
       "    .dataframe tbody tr th {\n",
       "        vertical-align: top;\n",
       "    }\n",
       "\n",
       "    .dataframe thead tr th {\n",
       "        text-align: left;\n",
       "    }\n",
       "\n",
       "    .dataframe thead tr:last-of-type th {\n",
       "        text-align: right;\n",
       "    }\n",
       "</style>\n",
       "<table border=\"1\" class=\"dataframe\">\n",
       "  <thead>\n",
       "    <tr>\n",
       "      <th></th>\n",
       "      <th colspan=\"2\" halign=\"left\">new_cases</th>\n",
       "      <th colspan=\"2\" halign=\"left\">new_deaths</th>\n",
       "    </tr>\n",
       "    <tr>\n",
       "      <th></th>\n",
       "      <th>mean</th>\n",
       "      <th>std</th>\n",
       "      <th>mean</th>\n",
       "      <th>std</th>\n",
       "    </tr>\n",
       "    <tr>\n",
       "      <th>date</th>\n",
       "      <th></th>\n",
       "      <th></th>\n",
       "      <th></th>\n",
       "      <th></th>\n",
       "    </tr>\n",
       "  </thead>\n",
       "  <tbody>\n",
       "    <tr>\n",
       "      <th>2020-02-29</th>\n",
       "      <td>NaN</td>\n",
       "      <td>NaN</td>\n",
       "      <td>NaN</td>\n",
       "      <td>NaN</td>\n",
       "    </tr>\n",
       "    <tr>\n",
       "      <th>2020-03-31</th>\n",
       "      <td>220.965517</td>\n",
       "      <td>271.795549</td>\n",
       "      <td>4.827586</td>\n",
       "      <td>7.512223</td>\n",
       "    </tr>\n",
       "    <tr>\n",
       "      <th>2020-04-30</th>\n",
       "      <td>609.466667</td>\n",
       "      <td>280.446040</td>\n",
       "      <td>28.300000</td>\n",
       "      <td>8.330045</td>\n",
       "    </tr>\n",
       "    <tr>\n",
       "      <th>2020-05-31</th>\n",
       "      <td>242.290323</td>\n",
       "      <td>137.889858</td>\n",
       "      <td>13.129032</td>\n",
       "      <td>6.576432</td>\n",
       "    </tr>\n",
       "    <tr>\n",
       "      <th>2020-06-30</th>\n",
       "      <td>323.633333</td>\n",
       "      <td>75.003670</td>\n",
       "      <td>5.733333</td>\n",
       "      <td>3.777733</td>\n",
       "    </tr>\n",
       "    <tr>\n",
       "      <th>2020-07-31</th>\n",
       "      <td>288.903226</td>\n",
       "      <td>98.829602</td>\n",
       "      <td>5.129032</td>\n",
       "      <td>3.073998</td>\n",
       "    </tr>\n",
       "    <tr>\n",
       "      <th>2020-08-31</th>\n",
       "      <td>222.580645</td>\n",
       "      <td>88.332242</td>\n",
       "      <td>2.967742</td>\n",
       "      <td>1.834555</td>\n",
       "    </tr>\n",
       "    <tr>\n",
       "      <th>2020-09-30</th>\n",
       "      <td>564.966667</td>\n",
       "      <td>191.780133</td>\n",
       "      <td>4.800000</td>\n",
       "      <td>2.618238</td>\n",
       "    </tr>\n",
       "    <tr>\n",
       "      <th>2020-10-31</th>\n",
       "      <td>2017.903226</td>\n",
       "      <td>1151.114485</td>\n",
       "      <td>16.290323</td>\n",
       "      <td>9.019215</td>\n",
       "    </tr>\n",
       "    <tr>\n",
       "      <th>2020-11-30</th>\n",
       "      <td>5313.750000</td>\n",
       "      <td>1555.355523</td>\n",
       "      <td>62.625000</td>\n",
       "      <td>14.808377</td>\n",
       "    </tr>\n",
       "  </tbody>\n",
       "</table>\n",
       "</div>"
      ],
      "text/plain": [
       "              new_cases              new_deaths           \n",
       "                   mean          std       mean        std\n",
       "date                                                      \n",
       "2020-02-29          NaN          NaN        NaN        NaN\n",
       "2020-03-31   220.965517   271.795549   4.827586   7.512223\n",
       "2020-04-30   609.466667   280.446040  28.300000   8.330045\n",
       "2020-05-31   242.290323   137.889858  13.129032   6.576432\n",
       "2020-06-30   323.633333    75.003670   5.733333   3.777733\n",
       "2020-07-31   288.903226    98.829602   5.129032   3.073998\n",
       "2020-08-31   222.580645    88.332242   2.967742   1.834555\n",
       "2020-09-30   564.966667   191.780133   4.800000   2.618238\n",
       "2020-10-31  2017.903226  1151.114485  16.290323   9.019215\n",
       "2020-11-30  5313.750000  1555.355523  62.625000  14.808377"
      ]
     },
     "execution_count": 89,
     "metadata": {},
     "output_type": "execute_result"
    }
   ],
   "source": [
    "df_portugal_specific.index = df_portugal_specific['date'] # Replaces the indexes of our dataframe with the values of \n",
    "# the 'date' variable\n",
    "\n",
    "df_portugal_specific[['new_cases', 'new_deaths']].resample('1M').agg(['mean','std']) # New df where only the  \n",
    "# wanted columns are being showed using resample (divides the date into 1 month bins) and using the .agg() function\n",
    "# to perform .mean() and .std() functions for our statistical analysis"
   ]
  },
  {
   "cell_type": "markdown",
   "metadata": {},
   "source": [
    "## Third answer "
   ]
  },
  {
   "cell_type": "code",
   "execution_count": 90,
   "metadata": {},
   "outputs": [],
   "source": [
    "df_italy = df[df['location'] == 'Italy']  # New df with only Italy as a location"
   ]
  },
  {
   "cell_type": "code",
   "execution_count": 91,
   "metadata": {},
   "outputs": [],
   "source": [
    "df_italy_specific_dates = df_italy[(df_italy['date'].dt.month >= 2) & (df_italy['date'].dt.month <= 7)]  # Sets the date span\n",
    "# to be only the 5 months we want (from February 2020 to July 2020)"
   ]
  },
  {
   "cell_type": "code",
   "execution_count": 92,
   "metadata": {},
   "outputs": [],
   "source": [
    "df_italy_specific_dates.index = df_italy_specific_dates['date']  # Sets the index of our df to be the dates"
   ]
  },
  {
   "cell_type": "code",
   "execution_count": 93,
   "metadata": {},
   "outputs": [],
   "source": [
    "df_grouped_data = df_italy_specific_dates.groupby(df_italy_specific_dates.date.dt.to_period('M')).agg(['mean','std']) \n",
    "# groupby method we group the dataframe df_italy_specific_dates by date (containing only year and month)\n",
    "# using the .agg() function to perform .mean() and .std() functions for our statistical analysis"
   ]
  },
  {
   "cell_type": "code",
   "execution_count": 94,
   "metadata": {},
   "outputs": [],
   "source": [
    "df_data = df_grouped_data[['new_cases_per_million', 'icu_patients_per_million','new_tests_per_thousand']] # Takes from the\n",
    "# df_grouped_data dataframe only the three key-variables of our choice for the statistical analysis"
   ]
  },
  {
   "cell_type": "code",
   "execution_count": 95,
   "metadata": {},
   "outputs": [
    {
     "data": {
      "text/html": [
       "<div>\n",
       "<style scoped>\n",
       "    .dataframe tbody tr th:only-of-type {\n",
       "        vertical-align: middle;\n",
       "    }\n",
       "\n",
       "    .dataframe tbody tr th {\n",
       "        vertical-align: top;\n",
       "    }\n",
       "\n",
       "    .dataframe thead tr th {\n",
       "        text-align: left;\n",
       "    }\n",
       "\n",
       "    .dataframe thead tr:last-of-type th {\n",
       "        text-align: right;\n",
       "    }\n",
       "</style>\n",
       "<table border=\"1\" class=\"dataframe\">\n",
       "  <thead>\n",
       "    <tr>\n",
       "      <th></th>\n",
       "      <th colspan=\"2\" halign=\"left\">new_cases_per_million</th>\n",
       "      <th colspan=\"2\" halign=\"left\">icu_patients_per_million</th>\n",
       "      <th colspan=\"2\" halign=\"left\">new_tests_per_thousand</th>\n",
       "    </tr>\n",
       "    <tr>\n",
       "      <th></th>\n",
       "      <th>mean</th>\n",
       "      <th>std</th>\n",
       "      <th>mean</th>\n",
       "      <th>std</th>\n",
       "      <th>mean</th>\n",
       "      <th>std</th>\n",
       "    </tr>\n",
       "    <tr>\n",
       "      <th>date</th>\n",
       "      <th></th>\n",
       "      <th></th>\n",
       "      <th></th>\n",
       "      <th></th>\n",
       "      <th></th>\n",
       "      <th></th>\n",
       "    </tr>\n",
       "  </thead>\n",
       "  <tbody>\n",
       "    <tr>\n",
       "      <th>2020-02</th>\n",
       "      <td>0.504724</td>\n",
       "      <td>1.096726</td>\n",
       "      <td>0.887667</td>\n",
       "      <td>0.478033</td>\n",
       "      <td>0.047400</td>\n",
       "      <td>0.021126</td>\n",
       "    </tr>\n",
       "    <tr>\n",
       "      <th>2020-03</th>\n",
       "      <td>53.806871</td>\n",
       "      <td>35.174565</td>\n",
       "      <td>32.841323</td>\n",
       "      <td>22.591159</td>\n",
       "      <td>0.260581</td>\n",
       "      <td>0.174764</td>\n",
       "    </tr>\n",
       "    <tr>\n",
       "      <th>2020-04</th>\n",
       "      <td>56.152200</td>\n",
       "      <td>14.924322</td>\n",
       "      <td>49.212333</td>\n",
       "      <td>12.949976</td>\n",
       "      <td>0.811700</td>\n",
       "      <td>0.210154</td>\n",
       "    </tr>\n",
       "    <tr>\n",
       "      <th>2020-05</th>\n",
       "      <td>15.511323</td>\n",
       "      <td>7.578834</td>\n",
       "      <td>14.596323</td>\n",
       "      <td>6.073212</td>\n",
       "      <td>1.013452</td>\n",
       "      <td>0.197785</td>\n",
       "    </tr>\n",
       "    <tr>\n",
       "      <th>2020-06</th>\n",
       "      <td>4.284767</td>\n",
       "      <td>2.129632</td>\n",
       "      <td>3.430833</td>\n",
       "      <td>1.601996</td>\n",
       "      <td>0.833267</td>\n",
       "      <td>0.227061</td>\n",
       "    </tr>\n",
       "    <tr>\n",
       "      <th>2020-07</th>\n",
       "      <td>3.586323</td>\n",
       "      <td>0.947108</td>\n",
       "      <td>0.957097</td>\n",
       "      <td>0.228937</td>\n",
       "      <td>0.759323</td>\n",
       "      <td>0.177243</td>\n",
       "    </tr>\n",
       "  </tbody>\n",
       "</table>\n",
       "</div>"
      ],
      "text/plain": [
       "        new_cases_per_million            icu_patients_per_million             \\\n",
       "                         mean        std                     mean        std   \n",
       "date                                                                           \n",
       "2020-02              0.504724   1.096726                 0.887667   0.478033   \n",
       "2020-03             53.806871  35.174565                32.841323  22.591159   \n",
       "2020-04             56.152200  14.924322                49.212333  12.949976   \n",
       "2020-05             15.511323   7.578834                14.596323   6.073212   \n",
       "2020-06              4.284767   2.129632                 3.430833   1.601996   \n",
       "2020-07              3.586323   0.947108                 0.957097   0.228937   \n",
       "\n",
       "        new_tests_per_thousand            \n",
       "                          mean       std  \n",
       "date                                      \n",
       "2020-02               0.047400  0.021126  \n",
       "2020-03               0.260581  0.174764  \n",
       "2020-04               0.811700  0.210154  \n",
       "2020-05               1.013452  0.197785  \n",
       "2020-06               0.833267  0.227061  \n",
       "2020-07               0.759323  0.177243  "
      ]
     },
     "execution_count": 95,
     "metadata": {},
     "output_type": "execute_result"
    }
   ],
   "source": [
    " df_data  # showcases the df"
   ]
  },
  {
   "cell_type": "code",
   "execution_count": 96,
   "metadata": {
    "slideshow": {
     "slide_type": "notes"
    }
   },
   "outputs": [],
   "source": [
    "mean_data = [df_data['new_cases_per_million']['mean'],\n",
    "             df_data['icu_patients_per_million']['mean'],df_data['new_tests_per_thousand']['mean']]\n",
    "# Creates thee variable to store each value of the upper three dataframes (Caution: df_data['new_cases_per_million'] is a  \n",
    "# dataframe on its own and has 2 more colums {'mean' and 'std'}, we want to extract only the key-variable 'mean')"
   ]
  },
  {
   "cell_type": "code",
   "execution_count": 97,
   "metadata": {},
   "outputs": [],
   "source": [
    "mean_df = pd.concat(mean_data, axis=1) # Concatanates the data collected before into a new dataframe "
   ]
  },
  {
   "cell_type": "code",
   "execution_count": 98,
   "metadata": {},
   "outputs": [],
   "source": [
    "mean_df.columns = ['new_cases_per_million', 'icu_patients_per_million','new_tests_per_thusand'] # Renames the colums of the \n",
    "# newly created dataframe (previously named 'mean')"
   ]
  },
  {
   "cell_type": "code",
   "execution_count": 99,
   "metadata": {
    "scrolled": true
   },
   "outputs": [
    {
     "data": {
      "text/plain": [
       "<matplotlib.axes._subplots.AxesSubplot at 0x239362a8bc8>"
      ]
     },
     "execution_count": 99,
     "metadata": {},
     "output_type": "execute_result"
    },
    {
     "data": {
      "image/png": "[encoded data removed]",
      "text/plain": [
       "<Figure size 432x288 with 1 Axes>"
      ]
     },
     "metadata": {
      "needs_background": "light"
     },
     "output_type": "display_data"
    }
   ],
   "source": [
    "mean_df.plot(title = 'Mean')  # Creates a diagram showcases the mean values for each variable"
   ]
  },
  {
   "cell_type": "code",
   "execution_count": 100,
   "metadata": {},
   "outputs": [],
   "source": [
    "std_data = [df_data['new_cases_per_million']['std'],\n",
    "            df_data['icu_patients_per_million']['std'],df_data['new_tests_per_thousand']['std']]\n",
    "# Creates the variable to store each value of the upper three dataframes (Caution: df_data['new_cases_per_million'] is a  \n",
    "# dataframe on its own and has 2 more colums {'mean' and 'std'}, we want to extract only the key-variable 'std')"
   ]
  },
  {
   "cell_type": "code",
   "execution_count": 101,
   "metadata": {},
   "outputs": [],
   "source": [
    "std_df = pd.concat(std_data, axis=1) # Concatanates the data collected before into a new dataframe "
   ]
  },
  {
   "cell_type": "code",
   "execution_count": 102,
   "metadata": {},
   "outputs": [],
   "source": [
    "std_df.columns = ['new_cases_per_million', 'icu_patients_per_million','new_tests_per_thusand'] # Renames the colums of the \n",
    "# newly created dataframe (previously named 'std')"
   ]
  },
  {
   "cell_type": "code",
   "execution_count": 103,
   "metadata": {},
   "outputs": [
    {
     "data": {
      "text/plain": [
       "<matplotlib.axes._subplots.AxesSubplot at 0x23936314b88>"
      ]
     },
     "execution_count": 103,
     "metadata": {},
     "output_type": "execute_result"
    },
    {
     "data": {
      "image/png": "[encoded data removed]",
      "text/plain": [
       "<Figure size 432x288 with 1 Axes>"
      ]
     },
     "metadata": {
      "needs_background": "light"
     },
     "output_type": "display_data"
    }
   ],
   "source": [
    "std_df.plot(title = \"Standard Deviation\") # Creates a diagram showcases the mean values for each variable"
   ]
  },
  {
   "cell_type": "markdown",
   "metadata": {},
   "source": [
    "# THIRD PART"
   ]
  },
  {
   "cell_type": "markdown",
   "metadata": {},
   "source": [
    "## First answer"
   ]
  },
  {
   "cell_type": "code",
   "execution_count": 104,
   "metadata": {},
   "outputs": [],
   "source": [
    "import matplotlib.pyplot as plt\n",
    "%matplotlib inline"
   ]
  },
  {
   "cell_type": "code",
   "execution_count": 105,
   "metadata": {},
   "outputs": [],
   "source": [
    "from scipy import stats"
   ]
  },
  {
   "cell_type": "code",
   "execution_count": 106,
   "metadata": {},
   "outputs": [],
   "source": [
    "df_only_world = df[df['location'] == 'World'] # Creates dataframe where only contains data about the world (sum of all other \n",
    "# countries)\n",
    "\n",
    "df_correlation = df_only_world[['total_cases','total_deaths']].dropna() # Creates dataframe to be used for the first correlation\n",
    "# test (contains only the 'total_cases' and 'total_deaths' columns from the df_only_world dataframe).\n",
    "# Also, excludes the NaN values from both of them"
   ]
  },
  {
   "cell_type": "code",
   "execution_count": 107,
   "metadata": {},
   "outputs": [],
   "source": [
    "r, p = stats.pearsonr(df_correlation['total_cases'], df_correlation['total_deaths']) # The correlation test through\n",
    "# scipy.stats "
   ]
  },
  {
   "cell_type": "code",
   "execution_count": 108,
   "metadata": {},
   "outputs": [
    {
     "data": {
      "text/plain": [
       "0.9721076608791572"
      ]
     },
     "execution_count": 108,
     "metadata": {},
     "output_type": "execute_result"
    }
   ],
   "source": [
    "r # Pearson's r value"
   ]
  },
  {
   "cell_type": "code",
   "execution_count": 109,
   "metadata": {},
   "outputs": [
    {
     "data": {
      "text/plain": [
       "1.0450573665648478e-201"
      ]
     },
     "execution_count": 109,
     "metadata": {},
     "output_type": "execute_result"
    }
   ],
   "source": [
    "p # P-value"
   ]
  },
  {
   "cell_type": "code",
   "execution_count": 110,
   "metadata": {},
   "outputs": [
    {
     "data": {
      "text/plain": [
       "<matplotlib.axes._subplots.AxesSubplot at 0x239363b4488>"
      ]
     },
     "execution_count": 110,
     "metadata": {},
     "output_type": "execute_result"
    },
    {
     "data": {
      "image/png": "[encoded data removed]",
      "text/plain": [
       "<Figure size 432x288 with 1 Axes>"
      ]
     },
     "metadata": {
      "needs_background": "light"
     },
     "output_type": "display_data"
    }
   ],
   "source": [
    "df_correlation.plot.scatter(x = 'total_cases', y = 'total_deaths', title = 'Correlation Scatter-plot') # Creates and shows the\n",
    "# scatter plot of those columns we used for the test"
   ]
  },
  {
   "cell_type": "markdown",
   "metadata": {},
   "source": [
    "## Second answer "
   ]
  },
  {
   "cell_type": "code",
   "execution_count": 115,
   "metadata": {},
   "outputs": [],
   "source": [
    "df_latest_data = df[(df['date'] == df['date'].max()) & (df['location'] != 'World') & (df['location'] != 'International')]\n",
    "# Creates new dataframe containing data of only the latest date in our original dataframe\n",
    "# Also, 'World' and 'International' values are excluded as they contain total values and we want data for each country \n",
    "# separately\n",
    "\n",
    "df_ttest = df_latest_data[['gdp_per_capita','total_deaths_per_million']].dropna() # Creates dataframe to be used for the t-test\n",
    "# (contains only the 'gdp_per_capita' and 'total_deaths_per_million' columns from the df_latest_data).\n",
    "# Also, excludes the NaN values from both of them"
   ]
  },
  {
   "cell_type": "code",
   "execution_count": 117,
   "metadata": {},
   "outputs": [],
   "source": [
    "t, p = stats.ttest_rel(df_ttest['gdp_per_capita'], df_ttest['total_deaths_per_million']) # The t-test through scipy.stats "
   ]
  },
  {
   "cell_type": "code",
   "execution_count": 118,
   "metadata": {},
   "outputs": [
    {
     "data": {
      "text/plain": [
       "12.444901269070117"
      ]
     },
     "execution_count": 118,
     "metadata": {},
     "output_type": "execute_result"
    }
   ],
   "source": [
    "t # T-Score"
   ]
  },
  {
   "cell_type": "code",
   "execution_count": 119,
   "metadata": {},
   "outputs": [
    {
     "data": {
      "text/plain": [
       "1.415571764830309e-25"
      ]
     },
     "execution_count": 119,
     "metadata": {},
     "output_type": "execute_result"
    }
   ],
   "source": [
    "p # P-Value"
   ]
  },
  {
   "cell_type": "markdown",
   "metadata": {},
   "source": [
    "## Third answer "
   ]
  },
  {
   "cell_type": "code",
   "execution_count": 123,
   "metadata": {},
   "outputs": [],
   "source": [
    "df_italy # Dataframe which contains data for only Italy (Created in 2.3)\n",
    "\n",
    "df_second_correlation = df_italy[['total_tests','total_cases']].dropna() # Creates dataframe to be used for the second \n",
    "# correlatio test (contains only the 'total_tests' and 'total_cases' columns from the df_italy dataframe).\n",
    "# Also, excludes the NaN values from both of them "
   ]
  },
  {
   "cell_type": "code",
   "execution_count": 124,
   "metadata": {},
   "outputs": [],
   "source": [
    "r, p = stats.pearsonr(df_second_correlation['total_tests'], df_second_correlation['total_cases']) # The correlation test through\n",
    "# scipy.stats "
   ]
  },
  {
   "cell_type": "code",
   "execution_count": 125,
   "metadata": {},
   "outputs": [
    {
     "data": {
      "text/plain": [
       "0.8689820945708067"
      ]
     },
     "execution_count": 125,
     "metadata": {},
     "output_type": "execute_result"
    }
   ],
   "source": [
    "r # Pearson's r value"
   ]
  },
  {
   "cell_type": "code",
   "execution_count": 126,
   "metadata": {},
   "outputs": [
    {
     "data": {
      "text/plain": [
       "8.837501991362106e-85"
      ]
     },
     "execution_count": 126,
     "metadata": {},
     "output_type": "execute_result"
    }
   ],
   "source": [
    "p # P-value"
   ]
  },
  {
   "cell_type": "code",
   "execution_count": 127,
   "metadata": {},
   "outputs": [
    {
     "data": {
      "text/plain": [
       "<matplotlib.axes._subplots.AxesSubplot at 0x23936433908>"
      ]
     },
     "execution_count": 127,
     "metadata": {},
     "output_type": "execute_result"
    },
    {
     "data": {
      "image/png": "[encoded data removed]",
      "text/plain": [
       "<Figure size 432x288 with 1 Axes>"
      ]
     },
     "metadata": {
      "needs_background": "light"
     },
     "output_type": "display_data"
    }
   ],
   "source": [
    "df_second_correlation.plot.scatter(x = 'total_tests', y = 'total_cases', title = 'Correlation Scatter-plot') # Creates and\n",
    "# shows the scatter plot of those two columns we used for the test"
   ]
  },
  {
   "cell_type": "markdown",
   "metadata": {},
   "source": [
    "## Fourth answer "
   ]
  },
  {
   "cell_type": "code",
   "execution_count": 130,
   "metadata": {},
   "outputs": [],
   "source": [
    "df_usa = df[df['location'] == 'United States'] # Creates dataframe containing data for only United States\n",
    "\n",
    "df_third_correlation = df_usa[['total_cases','hosp_patients']].dropna() # Creates dataframe to be used for the third \n",
    "# correlatio test (contains only the 'total_cases' and 'hosp_patients' columns from the df_usa dataframe).\n",
    "# Also, excludes the NaN values from both of them "
   ]
  },
  {
   "cell_type": "code",
   "execution_count": 131,
   "metadata": {},
   "outputs": [],
   "source": [
    "r, p = stats.pearsonr(df_third_correlation['total_cases'], df_third_correlation['hosp_patients']) # The correlation test through\n",
    "# scipy.stats "
   ]
  },
  {
   "cell_type": "code",
   "execution_count": 132,
   "metadata": {},
   "outputs": [
    {
     "data": {
      "text/plain": [
       "0.2533972040641669"
      ]
     },
     "execution_count": 132,
     "metadata": {},
     "output_type": "execute_result"
    }
   ],
   "source": [
    "r # Pearson's r value"
   ]
  },
  {
   "cell_type": "code",
   "execution_count": 133,
   "metadata": {},
   "outputs": [
    {
     "data": {
      "text/plain": [
       "5.620839376412815e-05"
      ]
     },
     "execution_count": 133,
     "metadata": {},
     "output_type": "execute_result"
    }
   ],
   "source": [
    "p # P-value"
   ]
  },
  {
   "cell_type": "code",
   "execution_count": 134,
   "metadata": {},
   "outputs": [
    {
     "data": {
      "text/plain": [
       "<matplotlib.axes._subplots.AxesSubplot at 0x23936490a08>"
      ]
     },
     "execution_count": 134,
     "metadata": {},
     "output_type": "execute_result"
    },
    {
     "data": {
      "image/png": "[encoded data removed]",
      "text/plain": [
       "<Figure size 432x288 with 1 Axes>"
      ]
     },
     "metadata": {
      "needs_background": "light"
     },
     "output_type": "display_data"
    }
   ],
   "source": [
    "df_third_correlation.plot.scatter(x = 'total_cases', y = 'hosp_patients', title = 'Correlation Scatter-plot') # Creates and\n",
    "# shows the scatter plot of those two columns we used for the test"
   ]
  },
  {
   "cell_type": "code",
   "execution_count": 136,
   "metadata": {},
   "outputs": [],
   "source": [
    "df_fourth_correlation = df_usa[['icu_patients','new_deaths']].dropna() # Creates dataframe to be used for the fourth\n",
    "# correlatio test (contains only the 'icu_patients' and 'new_deaths' columns from the df_usa dataframe).\n",
    "# Also, excludes the NaN values from both of them "
   ]
  },
  {
   "cell_type": "code",
   "execution_count": 137,
   "metadata": {},
   "outputs": [],
   "source": [
    "r, p = stats.pearsonr(df_fourth_correlation['icu_patients'], df_fourth_correlation['new_deaths']) # The correlation test through\n",
    "# scipy.stats "
   ]
  },
  {
   "cell_type": "code",
   "execution_count": 138,
   "metadata": {},
   "outputs": [
    {
     "data": {
      "text/plain": [
       "0.6624385570678872"
      ]
     },
     "execution_count": 138,
     "metadata": {},
     "output_type": "execute_result"
    }
   ],
   "source": [
    "r # Pearson's r value"
   ]
  },
  {
   "cell_type": "code",
   "execution_count": 139,
   "metadata": {},
   "outputs": [
    {
     "data": {
      "text/plain": [
       "1.928371726166885e-31"
      ]
     },
     "execution_count": 139,
     "metadata": {},
     "output_type": "execute_result"
    }
   ],
   "source": [
    "p # P-value"
   ]
  },
  {
   "cell_type": "code",
   "execution_count": 140,
   "metadata": {},
   "outputs": [
    {
     "data": {
      "text/plain": [
       "<matplotlib.axes._subplots.AxesSubplot at 0x23936519388>"
      ]
     },
     "execution_count": 140,
     "metadata": {},
     "output_type": "execute_result"
    },
    {
     "data": {
      "image/png": "[encoded data removed]",
      "text/plain": [
       "<Figure size 432x288 with 1 Axes>"
      ]
     },
     "metadata": {
      "needs_background": "light"
     },
     "output_type": "display_data"
    }
   ],
   "source": [
    "df_fourth_correlation.plot.scatter(x = 'icu_patients', y = 'new_deaths', title = 'Correlation Scatter-plot') # Creates and\n",
    "# shows the scatter plot of those two columns we used for the test"
   ]
  }
 ],
 "metadata": {
  "celltoolbar": "Raw Cell Format",
  "kernelspec": {
   "display_name": "Python 3",
   "language": "python",
   "name": "python3"
  },
  "language_info": {
   "codemirror_mode": {
    "name": "ipython",
    "version": 3
   },
   "file_extension": ".py",
   "mimetype": "text/x-python",
   "name": "python",
   "nbconvert_exporter": "python",
   "pygments_lexer": "ipython3",
   "version": "3.7.4"
  }
 },
 "nbformat": 4,
 "nbformat_minor": 4
}
